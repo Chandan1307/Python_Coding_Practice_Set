{
 "cells": [
  {
   "cell_type": "markdown",
   "id": "3f05779f-3f71-48c8-81c2-fee2c143925d",
   "metadata": {},
   "source": [
    "Q1. Create a list in python using the followings: 2,3,4,5,6,7 with variable ‘a’\n",
    "Add ‘mango to the above list\n",
    "Also add banana, grapes & orange in the list\n",
    "insert apple in the 5th position of a variable ‘a’\n",
    "Remove last item from the list"
   ]
  },
  {
   "cell_type": "code",
   "execution_count": 9,
   "id": "b76ac081-1ef4-4eb5-acd9-3abfbffe7441",
   "metadata": {},
   "outputs": [
    {
     "name": "stdout",
     "output_type": "stream",
     "text": [
      "[2, 3, 4, 5, 'apple', 6, 7, 'mango', 'banana', 'grapes']\n"
     ]
    }
   ],
   "source": [
    "lst = [2,3,4,5,6,7]\n",
    "lst.append(\"mango\")\n",
    "lst.extend(['banana','grapes','orange'])\n",
    "lst.insert(4, 'apple')\n",
    "lst.pop()\n",
    "print(lst)"
   ]
  },
  {
   "cell_type": "markdown",
   "id": "4a5fefb3-ffa8-4c0b-841b-b6fdf5872d70",
   "metadata": {},
   "source": [
    "Q2.\n",
    "L = [1,2,3,4,5,6,7]\n",
    "Using the above list slice from 1:4"
   ]
  },
  {
   "cell_type": "code",
   "execution_count": 11,
   "id": "fd22339d-d96d-4415-8f1f-5c8e703ffbd1",
   "metadata": {},
   "outputs": [
    {
     "name": "stdout",
     "output_type": "stream",
     "text": [
      "[2, 3, 4]\n"
     ]
    }
   ],
   "source": [
    "L = [1,2,3,4,5,6,7]\n",
    "s = L[1:4]\n",
    "print(s)"
   ]
  },
  {
   "cell_type": "markdown",
   "id": "80d098cc-f1d6-4a4c-a825-55e731c77068",
   "metadata": {},
   "source": [
    "Q3. Reverse the order of given string \n",
    "\n",
    "L = [4,5,6,8,3] Without using reverse() function."
   ]
  },
  {
   "cell_type": "code",
   "execution_count": 12,
   "id": "21f45dfb-43c2-4e40-8406-84777208d65e",
   "metadata": {},
   "outputs": [
    {
     "name": "stdout",
     "output_type": "stream",
     "text": [
      "[3, 8, 6, 5, 4]\n"
     ]
    }
   ],
   "source": [
    "# Method 1st\n",
    "L = [4,5,6,8,3]\n",
    "r = L[::-1]\n",
    "print(r)"
   ]
  },
  {
   "cell_type": "code",
   "execution_count": 13,
   "id": "772a33d5-1e16-4982-a82e-fe6381b675d5",
   "metadata": {},
   "outputs": [
    {
     "name": "stdout",
     "output_type": "stream",
     "text": [
      "[3, 8, 6, 5, 4]\n"
     ]
    }
   ],
   "source": [
    "# Method 2nd\n",
    "L.reverse()\n",
    "print(L)"
   ]
  },
  {
   "cell_type": "markdown",
   "id": "25443570-6c8f-43b2-86a0-fbed38e8dc1c",
   "metadata": {},
   "source": [
    "Q4. Use list comprehension to square the given list \n",
    "\n",
    "L=[2,4,7,3,6,8]"
   ]
  },
  {
   "cell_type": "code",
   "execution_count": 15,
   "id": "42842d65-d4a5-4940-97f7-c2c35c2ea703",
   "metadata": {},
   "outputs": [
    {
     "data": {
      "text/plain": [
       "[4, 16, 49, 9, 36, 64]"
      ]
     },
     "execution_count": 15,
     "metadata": {},
     "output_type": "execute_result"
    }
   ],
   "source": [
    "# Method 1st\n",
    "L = [2,4,7,3,6,8]\n",
    "\n",
    "[x**2 for x in L]"
   ]
  },
  {
   "cell_type": "code",
   "execution_count": 16,
   "id": "45a078ad-f8c3-413d-99fc-025cee16cbdd",
   "metadata": {},
   "outputs": [
    {
     "name": "stdout",
     "output_type": "stream",
     "text": [
      "[4, 16, 49, 9, 36, 64]\n"
     ]
    }
   ],
   "source": [
    "# Method 2nd\n",
    "\n",
    "L = [2, 4, 7, 3, 6, 8]   # create a list L\n",
    "squared_L = [x**2 for x in L]   # use list comprehension to square the elements of L\n",
    "\n",
    "print(squared_L)       # print the squared list"
   ]
  },
  {
   "cell_type": "markdown",
   "id": "083a8121-c6c5-479b-af85-6940d4055ae6",
   "metadata": {},
   "source": [
    "Q5. Create a function that takes in a tuple of integers and returns the sum of the integers. Test the\n",
    "function with a tuple of your choice."
   ]
  },
  {
   "cell_type": "code",
   "execution_count": 17,
   "id": "1142b31e-8ecb-4dfb-8681-eceeba7282ca",
   "metadata": {},
   "outputs": [
    {
     "name": "stdout",
     "output_type": "stream",
     "text": [
      "24\n"
     ]
    }
   ],
   "source": [
    "# Method 1st\n",
    "def sum_tuple(t):\n",
    "    return sum(t)\n",
    "\n",
    "my_tuple = (3,5,7,9)\n",
    "print(sum_tuple(my_tuple))"
   ]
  },
  {
   "cell_type": "code",
   "execution_count": 18,
   "id": "6720208e-43ed-43fa-9bda-5459c7dc2e78",
   "metadata": {},
   "outputs": [
    {
     "name": "stdout",
     "output_type": "stream",
     "text": [
      "24\n"
     ]
    }
   ],
   "source": [
    "# Method 2nd\n",
    "def sum_tuple(t):\n",
    "    \"\"\"\n",
    "    Takes a tuple of integers and returns the sum of its elements.\n",
    "    \"\"\"\n",
    "    return sum(t)\n",
    "\n",
    "# Test the function with a tuple of integers\n",
    "my_tuple = (3, 5, 7, 9)\n",
    "print(sum_tuple(my_tuple))"
   ]
  },
  {
   "cell_type": "markdown",
   "id": "0d18b21b-c3cf-434c-bba9-4eb24f39048e",
   "metadata": {},
   "source": [
    "Q6. Create two sets of your favourite fruits, and use the union() method to combine them into a single set.\n",
    "Print the resulting set to the console."
   ]
  },
  {
   "cell_type": "code",
   "execution_count": 20,
   "id": "c7480506-6f3e-4011-b703-d2872043cd84",
   "metadata": {},
   "outputs": [
    {
     "name": "stdout",
     "output_type": "stream",
     "text": [
      "{'orange', 'apple', 'pineapple', 'kiwi', 'banana', 'mango'}\n"
     ]
    }
   ],
   "source": [
    "# Method 1st\n",
    "set1 = {'apple', 'banana', 'orange'}\n",
    "set2 = {'mango', 'pineapple','kiwi'}\n",
    "\n",
    "c = set1.union(set2)\n",
    "print(c)"
   ]
  },
  {
   "cell_type": "code",
   "execution_count": 21,
   "id": "ce9e22f3-1541-4303-a70f-1147a5157718",
   "metadata": {},
   "outputs": [
    {
     "name": "stdout",
     "output_type": "stream",
     "text": [
      "{'orange', 'apple', 'pineapple', 'kiwi', 'banana', 'mango'}\n"
     ]
    }
   ],
   "source": [
    "# Method 2nd with comment:\n",
    "# Create two sets of favorite fruits\n",
    "set1 = {\"apple\", \"banana\", \"orange\"}\n",
    "set2 = {\"mango\", \"pineapple\", \"kiwi\"}\n",
    "\n",
    "# Combine the two sets into a single set using the union() method\n",
    "combined_set = set1.union(set2)\n",
    "\n",
    "# Print the resulting set\n",
    "print(combined_set)"
   ]
  },
  {
   "cell_type": "markdown",
   "id": "54f88774-cc09-4a3d-ae23-9dcace7ba4fe",
   "metadata": {},
   "source": [
    "Q7. Create a set of random words, and use the add() method to add a new word to the set. Print the\n",
    "resulting set to the console."
   ]
  },
  {
   "cell_type": "code",
   "execution_count": 22,
   "id": "be398d7b-34ba-4d08-a102-24fa389f1cd8",
   "metadata": {},
   "outputs": [
    {
     "name": "stdout",
     "output_type": "stream",
     "text": [
      "{'pineapple', 'orange', 'apple', 'banana'}\n"
     ]
    }
   ],
   "source": [
    "my_set = {\"apple\", \"banana\", \"orange\"}\n",
    "\n",
    "my_set.add(\"pineapple\")\n",
    "print(my_set)"
   ]
  },
  {
   "cell_type": "markdown",
   "id": "baae5109-c24e-48a4-aacc-502f79cbee6b",
   "metadata": {},
   "source": [
    "Q8. Create a set of your favourite animals, and use the remove() method to remove one animal from the\n",
    "set. Print the resulting set to the console."
   ]
  },
  {
   "cell_type": "code",
   "execution_count": 24,
   "id": "817cc7eb-1dbc-433a-b2a9-e1f71ba2025b",
   "metadata": {},
   "outputs": [
    {
     "name": "stdout",
     "output_type": "stream",
     "text": [
      "{'Lion', 'elephant', 'Dog'}\n"
     ]
    }
   ],
   "source": [
    "my_animals = {'Dog','Lion','bear','elephant'}\n",
    "my_animals.remove('bear')\n",
    "print(my_animals)"
   ]
  },
  {
   "cell_type": "markdown",
   "id": "e53dfe56-b491-4780-973e-83bcc7863d1b",
   "metadata": {},
   "source": [
    "Q9. favorite_books = {\"1984\", \"To Kill a Mockingbird\", \"Pride and Prejudice\"}\n",
    "\n",
    "favorite_movies = [\"The Shawshank Redemption\", \"The Godfather\", \"The Dark Knight\"]\n",
    "\n",
    "Use the zip() function to combine the book set and movie list into a list of tuples representing book/\n",
    "movie pairs. Print the resulting list."
   ]
  },
  {
   "cell_type": "code",
   "execution_count": 26,
   "id": "2e8eb683-e6bb-4b8b-b770-20cc899632ed",
   "metadata": {},
   "outputs": [
    {
     "name": "stdout",
     "output_type": "stream",
     "text": [
      "[('Pride and Prejudice', 'The Shawshank Redemption'), ('1984', 'The Godfather'), ('To Kill a Mockingbird', 'The Dark Knight')]\n"
     ]
    }
   ],
   "source": [
    "favorite_books = {\"1984\", \"To Kill a Mockingbird\", \"Pride and Prejudice\"}\n",
    "favorite_movies = [\"The Shawshank Redemption\", \"The Godfather\", \"The Dark Knight\"]\n",
    "\n",
    "books_pairs = list(zip(favorite_books, favorite_movies))\n",
    "print(books_pairs)"
   ]
  },
  {
   "cell_type": "markdown",
   "id": "a51d3966-2710-4d06-8370-80c79c61eccf",
   "metadata": {},
   "source": [
    "Q10. Write a Python program to find the difference between consecutive numbers in a list."
   ]
  },
  {
   "cell_type": "code",
   "execution_count": 28,
   "id": "f92282da-c15b-4249-aa10-5a071cd7769f",
   "metadata": {},
   "outputs": [
    {
     "name": "stdout",
     "output_type": "stream",
     "text": [
      "[3, 2, 2, 3, 4]\n"
     ]
    }
   ],
   "source": [
    "my_list = [4, 7, 9, 11, 14, 18]\n",
    "\n",
    "diff_list = [j - i for i, j in zip(my_list[:-1], my_list[1:])]\n",
    "\n",
    "print(diff_list)"
   ]
  },
  {
   "cell_type": "code",
   "execution_count": 29,
   "id": "e0383db2-edb6-4c5b-826b-c30eecd85095",
   "metadata": {},
   "outputs": [
    {
     "name": "stdout",
     "output_type": "stream",
     "text": [
      "[2, 3, 6, 7]\n"
     ]
    }
   ],
   "source": [
    "def consecutive_difference(lst):\n",
    "    diff_lst = []\n",
    "    for i in range(len(lst)-1):\n",
    "        diff_lst.append(abs(lst[i] - lst[i+1]))\n",
    "    return diff_lst\n",
    "\n",
    "# Example usage\n",
    "my_list = [3, 5, 2, 8, 1]\n",
    "diff_list = consecutive_difference(my_list)\n",
    "print(diff_list)\n",
    "\n",
    "#note:The consecutive_difference() function takes a list as input and returns a list of differences between consecutive numbers"
   ]
  },
  {
   "cell_type": "raw",
   "id": "1b23ee61-dfb2-4260-944b-b3414029f79c",
   "metadata": {},
   "source": [
    "Example usage\n",
    "\n",
    "my_list = [5, 9, 12, 18, 22]\n",
    "\n",
    "diffs = find_diff_consecutive_numbers(my_list)\n",
    "\n",
    "print(diffs) # Output: [4, 3, 6, 4]"
   ]
  },
  {
   "cell_type": "raw",
   "id": "38174174-ea43-4b9f-9c7e-66e1e7fdfd94",
   "metadata": {},
   "source": [
    "Solutions\n",
    "\n",
    "# Exercise 6\n",
    "fruits1 = {\"apple\", \"banana\", \"pear\"}\n",
    "fruits2 = {\"orange\", \"grape\", \"kiwi\"}\n",
    "combined_fruits = fruits1.union(fruits2)\n",
    "print(combined_fruits)\n",
    "\n",
    "# Exercise 7\n",
    "words = {\"hello\", \"world\", \"python\"}\n",
    "words.add(\"programming\")\n",
    "print(words)\n",
    "\n",
    "# Exercise 8\n",
    "animals = {\"dog\", \"cat\", \"hamster\", \"parrot\"}\n",
    "animals.remove(\"cat\")\n",
    "print(animals)\n",
    "\n",
    "# Solution 9\n",
    "book_movie_pairs = list(zip(favorite_books, favorite_movies))\n",
    "print(book_movie_pairs)\n",
    "\n",
    "# Solutions 10\n",
    "def find_diff_consecutive_numbers(lst):\n",
    "diffs = []\n",
    "for i in range(1, len(lst)):\n",
    "diff = lst[i] - lst[i-1]\n",
    "diffs.append(diff)\n",
    "return diffs\n"
   ]
  }
 ],
 "metadata": {
  "kernelspec": {
   "display_name": "Python 3 (ipykernel)",
   "language": "python",
   "name": "python3"
  },
  "language_info": {
   "codemirror_mode": {
    "name": "ipython",
    "version": 3
   },
   "file_extension": ".py",
   "mimetype": "text/x-python",
   "name": "python",
   "nbconvert_exporter": "python",
   "pygments_lexer": "ipython3",
   "version": "3.10.8"
  }
 },
 "nbformat": 4,
 "nbformat_minor": 5
}
