{
 "cells": [
  {
   "cell_type": "markdown",
   "id": "986d0bad-b029-4939-a0ea-efdb46186d99",
   "metadata": {},
   "source": [
    "Q1. Create a dictionary called fruits with the following key-value pairs:\n",
    "\n",
    "\"apple\": 0.75\n",
    "\n",
    "\"banana\": 1.25\n",
    "\n",
    "\"orange\": 0.90\n",
    "\n",
    "Then, print out the price of a banana."
   ]
  },
  {
   "cell_type": "code",
   "execution_count": 3,
   "id": "5f3a1692-d39b-48c0-85e1-634ff85b0928",
   "metadata": {},
   "outputs": [
    {
     "name": "stdout",
     "output_type": "stream",
     "text": [
      "1.25\n"
     ]
    }
   ],
   "source": [
    "fruits = {\n",
    "    \"apple\":0.75,\n",
    "    \"banana\":1.25,\n",
    "    \"orange\":0.90\n",
    "}\n",
    "print(fruits[\"banana\"])"
   ]
  },
  {
   "cell_type": "markdown",
   "id": "5c4e5dbf-66d7-44b1-81da-5b604551d09c",
   "metadata": {},
   "source": [
    "Q2. Create an empty dictionary called ages. Add the following key-value pairs to the dictionary:\n",
    "\n",
    "\"Alice\": 30\n",
    "\n",
    "\"Bob\": 25\n",
    "\n",
    "\"Charlie\": 35\n",
    "\n",
    "Then, print out the age of Charlie."
   ]
  },
  {
   "cell_type": "code",
   "execution_count": 8,
   "id": "6ed6c8fa-8d6b-432e-9394-d8a2342bedeb",
   "metadata": {},
   "outputs": [
    {
     "name": "stdout",
     "output_type": "stream",
     "text": [
      "35\n"
     ]
    }
   ],
   "source": [
    "# Create an empty dictionary called ages\n",
    "ages = {}\n",
    "\n",
    "# Add the given key-value pairs to the dictionary\n",
    "ages[\"Alice\"] = 30\n",
    "ages[\"Bob\"] = 25\n",
    "ages[\"Charlie\"] = 35\n",
    "\n",
    "# Print out the age of Charlie\n",
    "print(ages[\"Charlie\"])"
   ]
  },
  {
   "cell_type": "markdown",
   "id": "e9f40d83-8bd7-417f-9108-651aa1f7584a",
   "metadata": {},
   "source": [
    "Q3. Write a function called word_count(text) that takes a string as input and returns a dictionary where\n",
    "each key is a word in the text and its value is the number of times that word appears in the text. For\n",
    "example, word_count(\"hello world hello\") should return {\"hello\": 2, \"world\": 1}."
   ]
  },
  {
   "cell_type": "code",
   "execution_count": 12,
   "id": "cd273077-0e58-460a-abf6-638a08d18a38",
   "metadata": {},
   "outputs": [
    {
     "name": "stdout",
     "output_type": "stream",
     "text": [
      "{'hello': 2, 'world': 1}\n"
     ]
    }
   ],
   "source": [
    "def word_count(text):\n",
    "    # Convert the input string to lowercase and split into words\n",
    "    words = text.lower().split()\n",
    "    # Initialize an empty dictionary\n",
    "    counts = {}\n",
    "    # Loop through the words and count the number of occurrences of each word\n",
    "    for word in words:\n",
    "        if word in counts:\n",
    "            counts[word] += 1\n",
    "        else:\n",
    "            counts[word] = 1\n",
    "    # Return the resulting dictionary\n",
    "    return counts\n",
    "\n",
    "# Example usage\n",
    "text = \"hello world hello\"\n",
    "counts = word_count(text)\n",
    "print(counts)"
   ]
  },
  {
   "cell_type": "markdown",
   "id": "7a3f7b0c-b3dd-4618-86c9-12f04aa6be3a",
   "metadata": {},
   "source": [
    "Q4. Create a dictionary called phone_book with the following key-value pairs:\n",
    "\n",
    "\"Alice\": \"555-1234\"\n",
    "\n",
    "\"Bob\": \"555-5678\"\n",
    "\n",
    "\"Charlie\": \"555-9012\"\n",
    "\n",
    "Then, prompt the user to enter a name and print out the corresponding phone number. If the name is not\n",
    "in the phone book, print out a message saying that the name was not found."
   ]
  },
  {
   "cell_type": "code",
   "execution_count": 7,
   "id": "bce30bec-7a81-4d84-a634-0ad9f6bd0eeb",
   "metadata": {},
   "outputs": [
    {
     "name": "stdin",
     "output_type": "stream",
     "text": [
      "Enter a name to lookup in the phone book:  chandan\n"
     ]
    },
    {
     "name": "stdout",
     "output_type": "stream",
     "text": [
      "chandan was not found in the phone book.\n"
     ]
    }
   ],
   "source": [
    "# Create phone_book dictionary\n",
    "phone_book = {\n",
    "    \"Alice\": \"555-1234\",\n",
    "    \"Bob\": \"555-5678\",\n",
    "    \"Charlie\": \"555-9012\"\n",
    "}\n",
    "\n",
    "# prompt user to enter a name\n",
    "name = input(\"Enter a name to lookup in the phone book: \")\n",
    "\n",
    "# lookup phone number by name\n",
    "if name in phone_book:\n",
    "    phone_number = phone_book[name]\n",
    "    print(f\"{name}'s phone number is {phone_number}.\")\n",
    "else:\n",
    "    print(f\"{name} was not found in the phone book.\")"
   ]
  },
  {
   "cell_type": "markdown",
   "id": "1618de74-2e3d-42a6-aa57-83d3d25fe335",
   "metadata": {},
   "source": [
    "Q5. Write a program that prompts the user to enter a number between 1 and 10. If the number is less than\n",
    "5, print out \"Too low!\", otherwise print out \"Too high!\"."
   ]
  },
  {
   "cell_type": "code",
   "execution_count": 11,
   "id": "f937d237-c7f2-495a-9b5c-e12d92e422bb",
   "metadata": {},
   "outputs": [
    {
     "name": "stdin",
     "output_type": "stream",
     "text": [
      "Enter the number between 1 to 10:  4\n"
     ]
    },
    {
     "name": "stdout",
     "output_type": "stream",
     "text": [
      "Too low!\n"
     ]
    }
   ],
   "source": [
    "number = int(input(\"Enter the number between 1 to 10: \"))\n",
    "\n",
    "# Check if the number less than 5\n",
    "if number > 5:\n",
    "    print(\"Too high!\")\n",
    "else:\n",
    "    print(\"Too low!\")"
   ]
  },
  {
   "cell_type": "markdown",
   "id": "64ab9eeb-5ccf-4eef-bc0b-266aefddd1cf",
   "metadata": {},
   "source": [
    "Q6. Write a program that prompts the user to enter a password. If the password is \"password123\", print\n",
    "out \"Access granted\", otherwise print out \"Access denied\"."
   ]
  },
  {
   "cell_type": "code",
   "execution_count": 12,
   "id": "a0e59fa7-3088-4df9-bfd6-77f79d3c1768",
   "metadata": {},
   "outputs": [
    {
     "name": "stdin",
     "output_type": "stream",
     "text": [
      "Enter a Password:  chandan123\n"
     ]
    },
    {
     "name": "stdout",
     "output_type": "stream",
     "text": [
      "Access denied\n"
     ]
    }
   ],
   "source": [
    "password = input(\"Enter a Password: \")\n",
    "\n",
    "# Check if the password correct\n",
    "if password == \"password123\":\n",
    "    print(\"Access granted\")\n",
    "else:\n",
    "    print(\"Access denied\")"
   ]
  },
  {
   "cell_type": "markdown",
   "id": "c03db5b7-a834-4a6b-adba-eb7a506740b3",
   "metadata": {},
   "source": [
    "Q7. Write a program that prompts the user to enter a positive integer. Then, use a loop to print out all the\n",
    "odd numbers from 1 to that integer."
   ]
  },
  {
   "cell_type": "code",
   "execution_count": 16,
   "id": "07d3c983-258e-40af-aeaf-3df2346efe91",
   "metadata": {},
   "outputs": [
    {
     "name": "stdin",
     "output_type": "stream",
     "text": [
      "Enter a positive integer:  17\n"
     ]
    },
    {
     "name": "stdout",
     "output_type": "stream",
     "text": [
      "1\n",
      "3\n",
      "5\n",
      "7\n",
      "9\n",
      "11\n",
      "13\n",
      "15\n",
      "17\n"
     ]
    }
   ],
   "source": [
    "num = int(input(\"Enter a positive integer: \"))\n",
    "\n",
    "# print out all the odd numbers from 1 to num\n",
    "for i in range(1, num+1, 2):\n",
    "    print(i)"
   ]
  },
  {
   "cell_type": "code",
   "execution_count": 17,
   "id": "d184683c-9f99-4d14-a12d-d12871e9fa83",
   "metadata": {},
   "outputs": [
    {
     "name": "stdin",
     "output_type": "stream",
     "text": [
      "Enter a positive integer:  20\n"
     ]
    },
    {
     "name": "stdout",
     "output_type": "stream",
     "text": [
      "1\n",
      "3\n",
      "5\n",
      "7\n",
      "9\n",
      "11\n",
      "13\n",
      "15\n",
      "17\n",
      "19\n"
     ]
    }
   ],
   "source": [
    "# Using while loop\n",
    "# prompt user to enter a positive integer\n",
    "num = int(input(\"Enter a positive integer: \"))\n",
    "\n",
    "# initialize counter to 1\n",
    "i = 1\n",
    "\n",
    "# print out all the odd numbers from 1 to num\n",
    "while i <= num:\n",
    "    print(i)\n",
    "    i += 2"
   ]
  },
  {
   "cell_type": "markdown",
   "id": "d7fb8070-b8fd-4c4e-88cc-0a1e4337315f",
   "metadata": {},
   "source": [
    "Q8. Write a program that generates a random number between 1 and 100 and then prompts the user to\n",
    "guess the number. If the user's guess is too low, print out \"Too low!\", if the guess is too high, print out \"Too\n",
    "high!\", and if the guess is correct, print out \"You win!\"."
   ]
  },
  {
   "cell_type": "code",
   "execution_count": null,
   "id": "ac4c983e-4f17-4e61-9320-3ded0c0e57b8",
   "metadata": {},
   "outputs": [],
   "source": [
    "import random\n",
    "\n",
    "# generate a random number between 1 and 100\n",
    "secret_number = random.randint(1, 100)\n",
    "\n",
    "# prompt user to guess the number\n",
    "guess = int(input(\"Guess the number between 1 and 100: \"))\n",
    "\n",
    "# check if guess is too low, too high, or correct\n",
    "while guess != secret_number:\n",
    "    if guess < secret_number:\n",
    "        print(\"Too low!\")\n",
    "    else:\n",
    "        print(\"Too high!\")\n",
    "    guess = int(input(\"Guess again: \"))\n",
    "\n",
    "# guess is correct, print \"You win!\"\n",
    "print(\"You win!\")"
   ]
  },
  {
   "cell_type": "markdown",
   "id": "dc7366c4-4e32-43e0-956b-c9613d9afa73",
   "metadata": {},
   "source": [
    "Q9. Write a program that generates a random number between 1 and 10 and then prompts the user to\n",
    "guess the number. The user has three attempts to guess the number. If the user guesses correctly within\n",
    "three attempts, print out \"You win!\", otherwise print out \"You lose!\"."
   ]
  },
  {
   "cell_type": "code",
   "execution_count": 21,
   "id": "caec817b-d7d3-4d17-883e-33001fcb07e7",
   "metadata": {},
   "outputs": [
    {
     "name": "stdin",
     "output_type": "stream",
     "text": [
      "Guess the number between 1 and 10:  28\n"
     ]
    },
    {
     "name": "stdout",
     "output_type": "stream",
     "text": [
      "Too high!\n"
     ]
    },
    {
     "name": "stdin",
     "output_type": "stream",
     "text": [
      "Guess the number between 1 and 10:  20\n"
     ]
    },
    {
     "name": "stdout",
     "output_type": "stream",
     "text": [
      "Too high!\n"
     ]
    },
    {
     "name": "stdin",
     "output_type": "stream",
     "text": [
      "Guess the number between 1 and 10:  9\n"
     ]
    },
    {
     "name": "stdout",
     "output_type": "stream",
     "text": [
      "Too low!\n",
      "You lose!\n"
     ]
    }
   ],
   "source": [
    "import random\n",
    "\n",
    "# generate a random number between 1 and 10\n",
    "secret_number = random.randint(1, 10)\n",
    "\n",
    "# set number of attempts to 3\n",
    "attempts = 3\n",
    "\n",
    "# prompt user to guess the number\n",
    "while attempts > 0:\n",
    "    guess = int(input(\"Guess the number between 1 and 10: \"))\n",
    "    if guess == secret_number:\n",
    "        print(\"You win!\")\n",
    "        break\n",
    "    elif guess < secret_number:\n",
    "        print(\"Too low!\")\n",
    "    else:\n",
    "        print(\"Too high!\")\n",
    "    attempts -= 1\n",
    "\n",
    "# check if user used up all three attempts and lost\n",
    "if attempts == 0:\n",
    "    print(\"You lose!\")\n"
   ]
  },
  {
   "cell_type": "markdown",
   "id": "5d97681a-e122-4dc1-83c2-708f4933b6eb",
   "metadata": {},
   "source": [
    "Q10. Write a program that prompts the user to enter their age and then prints out whether they are a child\n",
    "(age 0-12), a teenager (age 13-19), an adult (age 20-59), or a senior (age 60+)"
   ]
  },
  {
   "cell_type": "code",
   "execution_count": 22,
   "id": "763434cf-88e9-4e32-affa-02c18a3a1cee",
   "metadata": {},
   "outputs": [
    {
     "name": "stdin",
     "output_type": "stream",
     "text": [
      "Enter your age:  35\n"
     ]
    },
    {
     "name": "stdout",
     "output_type": "stream",
     "text": [
      "You are an adult.\n"
     ]
    }
   ],
   "source": [
    "# prompt user to enter their age\n",
    "age = int(input(\"Enter your age: \"))\n",
    "\n",
    "# check if age falls into child, teenager, adult, or senior category\n",
    "if age <= 12:\n",
    "    print(\"You are a child.\")\n",
    "elif age <= 19:\n",
    "    print(\"You are a teenager.\")\n",
    "elif age <= 59:\n",
    "    print(\"You are an adult.\")\n",
    "else:\n",
    "    print(\"You are a senior.\")"
   ]
  }
 ],
 "metadata": {
  "kernelspec": {
   "display_name": "Python 3 (ipykernel)",
   "language": "python",
   "name": "python3"
  },
  "language_info": {
   "codemirror_mode": {
    "name": "ipython",
    "version": 3
   },
   "file_extension": ".py",
   "mimetype": "text/x-python",
   "name": "python",
   "nbconvert_exporter": "python",
   "pygments_lexer": "ipython3",
   "version": "3.10.8"
  }
 },
 "nbformat": 4,
 "nbformat_minor": 5
}
