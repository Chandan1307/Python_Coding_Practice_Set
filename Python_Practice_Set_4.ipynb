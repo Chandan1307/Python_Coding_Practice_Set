{
 "cells": [
  {
   "cell_type": "markdown",
   "id": "fe77f5ec-152d-48aa-ae45-8ca7788e17a6",
   "metadata": {},
   "source": [
    "Q1. Create a class called \"Person\" with properties for \"name\", \"age\", and \"gender\". Create an object of this\n",
    "class and print out its properties."
   ]
  },
  {
   "cell_type": "code",
   "execution_count": 11,
   "id": "02d66aa2-4555-4a57-bfce-337307c2ef7b",
   "metadata": {},
   "outputs": [
    {
     "name": "stdout",
     "output_type": "stream",
     "text": [
      "Name: John Doe\n",
      "Age: 30\n",
      "Gender: male\n"
     ]
    }
   ],
   "source": [
    "# Define the Person class\n",
    "class Person:\n",
    "    # Constructor method to initialize the name, age, and gender properties\n",
    "    def __init__(self, name, age, gender):\n",
    "        self.name = name\n",
    "        self.age = age\n",
    "        self.gender = gender\n",
    "\n",
    "# Create an object of the Person class\n",
    "person1 = Person(\"John Doe\", 30, \"male\")\n",
    "\n",
    "# Print out the properties of the person object\n",
    "print(\"Name:\", person1.name)\n",
    "print(\"Age:\", person1.age)\n",
    "print(\"Gender:\", person1.gender)"
   ]
  },
  {
   "cell_type": "markdown",
   "id": "c31915f3-11e3-4853-8b35-97e415795dab",
   "metadata": {},
   "source": [
    "Q2. Write a Python class called \"Rectangle\" with attributes for \"width\" and \"height\". Implement methods\n",
    "to calculate the area and perimeter of the rectangle. Create an instance of this class and use it to print out\n",
    "the rectangle's area and perimeter."
   ]
  },
  {
   "cell_type": "code",
   "execution_count": 10,
   "id": "6abf93fe-5f7d-46d8-829c-a131c04ec304",
   "metadata": {},
   "outputs": [
    {
     "name": "stdout",
     "output_type": "stream",
     "text": [
      "Area: 50\n",
      "Perimeter: 30\n"
     ]
    }
   ],
   "source": [
    "# Define the Rectangle class\n",
    "class Rectangle:\n",
    "    # Constructor method to initialize the width and height properties\n",
    "    def __init__(self, width, height):\n",
    "        self.width = width\n",
    "        self.height = height\n",
    "    \n",
    "    # Method to calculate the area of the rectangle\n",
    "    def area(self):\n",
    "        return self.width * self.height\n",
    "    \n",
    "    # Method to calculate the perimeter of the rectangle\n",
    "    def perimeter(self):\n",
    "        return 2 * (self.width + self.height)\n",
    "\n",
    "# Create an object of the Rectangle class\n",
    "rect1 = Rectangle(5, 10)\n",
    "\n",
    "# Print out the area and perimeter of the rectangle object\n",
    "print(\"Area:\", rect1.area())\n",
    "print(\"Perimeter:\", rect1.perimeter())"
   ]
  },
  {
   "cell_type": "markdown",
   "id": "52f1f5f4-d66e-42f3-9835-f8ec69d09f43",
   "metadata": {},
   "source": [
    "Q3. Write a Python class called \"BankAccount\" with attributes for \"balance\" and \"interest_rate\".\n",
    "Implement methods to deposit and withdraw money from the account, as well as to calculate the interest\n",
    "earned on the balance based on the interest rate. Create an instance of this class and use it to test out the\n",
    "implemented methods for deposit, withdrawal, and interest calculation."
   ]
  },
  {
   "cell_type": "code",
   "execution_count": 9,
   "id": "f5d2c96a-81c2-4cdb-8588-59b1b3355d9b",
   "metadata": {},
   "outputs": [
    {
     "name": "stdout",
     "output_type": "stream",
     "text": [
      "Balance: 1300\n",
      "Interest earned: 19.5\n"
     ]
    }
   ],
   "source": [
    "# Define the BankAccount class\n",
    "class BankAccount:\n",
    "    # Constructor method to initialize the balance and interest_rate properties\n",
    "    def __init__(self, balance, interest_rate):\n",
    "        self.balance = balance\n",
    "        self.interest_rate = interest_rate\n",
    "    \n",
    "    # Method to deposit money into the account\n",
    "    def deposit(self, amount):\n",
    "        self.balance += amount\n",
    "    \n",
    "    # Method to withdraw money from the account\n",
    "    def withdraw(self, amount):\n",
    "        self.balance -= amount\n",
    "    \n",
    "    # Method to calculate the interest earned on the balance\n",
    "    def calculate_interest(self):\n",
    "        return self.balance * self.interest_rate / 100\n",
    "\n",
    "# Create an object of the BankAccount class\n",
    "account1 = BankAccount(1000, 1.5)\n",
    "\n",
    "# Test out the deposit and withdraw methods\n",
    "account1.deposit(500)\n",
    "account1.withdraw(200)\n",
    "\n",
    "# Test out the calculate_interest method\n",
    "interest_earned = account1.calculate_interest()\n",
    "\n",
    "# Print out the balance and interest earned on the account\n",
    "print(\"Balance:\", account1.balance)\n",
    "print(\"Interest earned:\", interest_earned)"
   ]
  },
  {
   "cell_type": "markdown",
   "id": "5dc7ff4d-a3e3-4651-8644-38c5e26f2333",
   "metadata": {},
   "source": [
    "Q4. Write a Python class called \"Animal\" with attributes for \"name\" and \"species\". Create a subclass of\n",
    "\"Animal\" called \"Dog\" with additional attributes for \"breed\" and \"owner\". Implement both classes with\n",
    "appropriate methods and constructors to initialise their properties. Create instances of both classes and\n",
    "use them to print out the various properties of the animals and dogs, such as their names, species,\n",
    "breeds, and owners."
   ]
  },
  {
   "cell_type": "code",
   "execution_count": 8,
   "id": "c63fd1d2-0a7c-4b1c-83ed-5afe471a819a",
   "metadata": {},
   "outputs": [
    {
     "name": "stdout",
     "output_type": "stream",
     "text": [
      "Animal name: Tiger\n",
      "Animal species: Feline\n",
      "Dog name: Max\n",
      "Dog species: Canine\n",
      "Dog breed: Labrador Retriever\n",
      "Dog owner: John\n"
     ]
    }
   ],
   "source": [
    "# Define the Animal class\n",
    "class Animal:\n",
    "    # Constructor method to initialize the name and species properties\n",
    "    def __init__(self, name, species):\n",
    "        self.name = name\n",
    "        self.species = species\n",
    "    \n",
    "# Define the Dog subclass, which inherits from Animal\n",
    "class Dog(Animal):\n",
    "    # Constructor method to initialize the breed and owner properties\n",
    "    def __init__(self, name, species, breed, owner):\n",
    "        # Call the parent class's constructor to initialize the name and species properties\n",
    "        super().__init__(name, species)\n",
    "        self.breed = breed\n",
    "        self.owner = owner\n",
    "\n",
    "# Create an object of the Animal class\n",
    "animal1 = Animal(\"Tiger\", \"Feline\")\n",
    "\n",
    "# Create an object of the Dog class\n",
    "dog1 = Dog(\"Max\", \"Canine\", \"Labrador Retriever\", \"John\")\n",
    "\n",
    "# Print out the properties of the animal1 object\n",
    "print(\"Animal name:\", animal1.name)\n",
    "print(\"Animal species:\", animal1.species)\n",
    "\n",
    "# Print out the properties of the dog1 object\n",
    "print(\"Dog name:\", dog1.name)\n",
    "print(\"Dog species:\", dog1.species)\n",
    "print(\"Dog breed:\", dog1.breed)\n",
    "print(\"Dog owner:\", dog1.owner)"
   ]
  },
  {
   "cell_type": "markdown",
   "id": "b003a61c-5d98-414d-bc47-5c3b148c1054",
   "metadata": {},
   "source": [
    "Q5. Create a class called \"Car\" with properties for \"make\", \"model\", and \"year\". Create a subclass of \"Car\"\n",
    "called \"ElectricCar\" with additional properties for \"battery_size\" and \"range\". Create objects of both\n",
    "classes and print out their properties."
   ]
  },
  {
   "cell_type": "code",
   "execution_count": 12,
   "id": "9eb0abc9-5133-4d4f-90c2-4d41c5c803fa",
   "metadata": {},
   "outputs": [
    {
     "name": "stdout",
     "output_type": "stream",
     "text": [
      "Car Make: Toyota\n",
      "Car Model: Innova\n",
      "Car Year: 2019\n",
      "Electric car make: BMW\n",
      "Electric car model: Top Model\n",
      "Electric car year: 2023\n",
      "Electric car battery size: 75\n",
      "Electric car range: 263\n"
     ]
    }
   ],
   "source": [
    "class Car:\n",
    "    def __init__(self, make, model, year):\n",
    "        self.make = make\n",
    "        self.model = model\n",
    "        self.year = year\n",
    "        \n",
    "class ElectricCar(Car):\n",
    "    def __init__(self, make, model, year, battery_size, range):\n",
    "        super().__init__(make, model, year)\n",
    "        self.battery_size = battery_size\n",
    "        self.range = range\n",
    "        \n",
    "car1 = Car(\"Toyota\", \"Innova\", 2019)\n",
    "\n",
    "electric_car1 = ElectricCar(\"BMW\", \"Top Model\", 2023, 75, 263)\n",
    "\n",
    "print(\"Car Make:\", car1.make)\n",
    "print(\"Car Model:\", car1.model)\n",
    "print(\"Car Year:\", car1.year)\n",
    "\n",
    "\n",
    "print(\"Electric car make:\",electric_car1.make)\n",
    "print(\"Electric car model:\", electric_car1.model)\n",
    "print(\"Electric car year:\", electric_car1.year)\n",
    "print(\"Electric car battery size:\", electric_car1.battery_size)\n",
    "print(\"Electric car range:\", electric_car1.range)"
   ]
  },
  {
   "cell_type": "markdown",
   "id": "ea8fe863-4146-46ca-8fd7-b316a9fd4eae",
   "metadata": {},
   "source": [
    "Q6. Create a class called \"Student\" with properties for \"name\" and \"id\". Create a subclass of \"Student\"\n",
    "called \"GraduateStudent\" with additional properties for \"advisor\" and \"research_area\". Create objects of\n",
    "both classes and print out their properties."
   ]
  },
  {
   "cell_type": "code",
   "execution_count": 4,
   "id": "8500e137-5d02-4b86-85a2-e868f9f2199a",
   "metadata": {},
   "outputs": [
    {
     "name": "stdout",
     "output_type": "stream",
     "text": [
      "Student name: Chand\n",
      "Student id: 12345\n",
      "Graduate student name: Rahul Sharma\n",
      "Graduate student id: 67890\n",
      "Graduate student advisor: Dr. Chandan\n",
      "Graduate student research area: Computer Science\n"
     ]
    }
   ],
   "source": [
    "# Define the Student class\n",
    "class Student:\n",
    "    # Constructor method to initialize the name and id properties\n",
    "    def __init__(self, name, id):\n",
    "        self.name = name\n",
    "        self.id = id\n",
    "\n",
    "# Define the GraduateStudent subclass, which inherits from Student\n",
    "class GraduateStudent(Student):\n",
    "    # Constructor method to initialize the advisor and research_area properties\n",
    "    def __init__(self, name, id, advisor, research_area):\n",
    "        # Call the parent class's constructor to initialize the name and id properties\n",
    "        super().__init__(name, id)\n",
    "        self.advisor = advisor\n",
    "        self.research_area = research_area\n",
    "\n",
    "# Create an object of the Student class\n",
    "student1 = Student(\"Chand\", 12345)\n",
    "\n",
    "# Create an object of the GraduateStudent class\n",
    "grad_student1 = GraduateStudent(\"Rahul Sharma\", 67890, \"Dr. Chandan\", \"Computer Science\")\n",
    "\n",
    "# Print out the properties of the student1 object\n",
    "print(\"Student name:\", student1.name)\n",
    "print(\"Student id:\", student1.id)\n",
    "\n",
    "# Print out the properties of the grad_student1 object\n",
    "print(\"Graduate student name:\", grad_student1.name)\n",
    "print(\"Graduate student id:\", grad_student1.id)\n",
    "print(\"Graduate student advisor:\", grad_student1.advisor)\n",
    "print(\"Graduate student research area:\", grad_student1.research_area)"
   ]
  },
  {
   "cell_type": "markdown",
   "id": "1d2e27a1-28c3-43ad-898f-197c9d32aa34",
   "metadata": {},
   "source": [
    "Q7. Create a class called \"Shape\" with methods to calculate the area and perimeter of the shape. Create\n",
    "subclasses of \"Shape\" for \"Rectangle\", \"Circle\", and \"Triangle\" with their own methods for calculating area\n",
    "and perimeter. Create objects of each class and print out their area and perimeter."
   ]
  },
  {
   "cell_type": "code",
   "execution_count": 6,
   "id": "36b2e2b8-2643-4867-97ca-fc6cb8beb5fc",
   "metadata": {},
   "outputs": [
    {
     "name": "stdout",
     "output_type": "stream",
     "text": [
      "Rectangle area: 15\n",
      "Rectangle perimeter: 16\n",
      "Circle area: 50.26548245743669\n",
      "Circle perimeter: 25.132741228718345\n",
      "Triangle area: 6.0\n",
      "Triangle perimeter: 12\n"
     ]
    }
   ],
   "source": [
    "import math\n",
    "\n",
    "# Define the Shape class\n",
    "class Shape:\n",
    "    def calculate_area(self):\n",
    "        pass\n",
    "    \n",
    "    def calculate_perimeter(self):\n",
    "        pass\n",
    "\n",
    "# Define the Rectangle class, which inherits from Shape\n",
    "class Rectangle(Shape):\n",
    "    def __init__(self, width, height):\n",
    "        self.width = width\n",
    "        self.height = height\n",
    "    \n",
    "    def calculate_area(self):\n",
    "        return self.width * self.height\n",
    "    \n",
    "    def calculate_perimeter(self):\n",
    "        return 2 * (self.width + self.height)\n",
    "\n",
    "# Define the Circle class, which inherits from Shape\n",
    "class Circle(Shape):\n",
    "    def __init__(self, radius):\n",
    "        self.radius = radius\n",
    "    \n",
    "    def calculate_area(self):\n",
    "        return math.pi * self.radius ** 2\n",
    "    \n",
    "    def calculate_perimeter(self):\n",
    "        return 2 * math.pi * self.radius\n",
    "\n",
    "# Define the Triangle class, which inherits from Shape\n",
    "class Triangle(Shape):\n",
    "    def __init__(self, a, b, c):\n",
    "        self.a = a\n",
    "        self.b = b\n",
    "        self.c = c\n",
    "    \n",
    "    def calculate_area(self):\n",
    "        s = (self.a + self.b + self.c) / 2\n",
    "        return math.sqrt(s * (s - self.a) * (s - self.b) * (s - self.c))\n",
    "    \n",
    "    def calculate_perimeter(self):\n",
    "        return self.a + self.b + self.c\n",
    "\n",
    "# Create objects of each class and print out their area and perimeter\n",
    "rectangle = Rectangle(5, 3)\n",
    "print(\"Rectangle area:\", rectangle.calculate_area())\n",
    "print(\"Rectangle perimeter:\", rectangle.calculate_perimeter())\n",
    "\n",
    "circle = Circle(4)\n",
    "print(\"Circle area:\", circle.calculate_area())\n",
    "print(\"Circle perimeter:\", circle.calculate_perimeter())\n",
    "\n",
    "triangle = Triangle(3, 4, 5)\n",
    "print(\"Triangle area:\", triangle.calculate_area())\n",
    "print(\"Triangle perimeter:\", triangle.calculate_perimeter())"
   ]
  },
  {
   "cell_type": "markdown",
   "id": "974b5170-40b9-4361-9684-4d5c41f67b29",
   "metadata": {},
   "source": [
    "Q8. Create a class called \"Employee\" with properties for \"name\", \"id\", and \"salary\". Add methods to give\n",
    "the employee a raise and to calculate their annual salary. Create objects of this class and test out the\n",
    "methods."
   ]
  },
  {
   "cell_type": "code",
   "execution_count": 8,
   "id": "47730030-bb50-4044-8db9-3f760f2423df",
   "metadata": {},
   "outputs": [
    {
     "name": "stdout",
     "output_type": "stream",
     "text": [
      "Initial salary: 50000\n",
      "New salary: 51000\n",
      "Annual salary: 612000\n"
     ]
    }
   ],
   "source": [
    "class Employee:\n",
    "    def __init__(self, name, id, salary):\n",
    "        self.name = name\n",
    "        self.id = id\n",
    "        self.salary = salary\n",
    "\n",
    "    def give_raise(self, amount):\n",
    "        self.salary += amount\n",
    "\n",
    "    def annual_salary(self):\n",
    "        return self.salary * 12\n",
    "\n",
    "# create an employee object\n",
    "employee1 = Employee(\"Chandan\", 12345, 50000)\n",
    "\n",
    "# print out the initial salary\n",
    "print(\"Initial salary:\", employee1.salary)\n",
    "\n",
    "# give the employee a raise of $1000\n",
    "employee1.give_raise(1000)\n",
    "\n",
    "# print out the new salary\n",
    "print(\"New salary:\", employee1.salary)\n",
    "\n",
    "# print out the annual salary\n",
    "print(\"Annual salary:\", employee1.annual_salary())"
   ]
  },
  {
   "cell_type": "markdown",
   "id": "6adb8870-2e75-44c5-a3a2-0f429b92e050",
   "metadata": {},
   "source": [
    "Q9. Create a class called \"Book\" with properties for \"title\", \"author\", and \"publisher\". Create a subclass of\n",
    "\"Book\" called \"Ebook\" with additional properties for \"file_format\" and \"file_size\". Create objects of both\n",
    "classes and print out their properties."
   ]
  },
  {
   "cell_type": "code",
   "execution_count": 9,
   "id": "47a77243-5247-47a5-a7c6-66316084aaeb",
   "metadata": {},
   "outputs": [
    {
     "name": "stdout",
     "output_type": "stream",
     "text": [
      "Book title: To Kill a Mockingbird\n",
      "Book author: Harper Lee\n",
      "Book publisher: J. B. Lippincott & Co.\n",
      "Ebook title: The Hunger Games\n",
      "Ebook author: Suzanne Collins\n",
      "Ebook publisher: Scholastic Corporation\n",
      "Ebook file format: PDF\n",
      "Ebook file size: 2.5 MB\n"
     ]
    }
   ],
   "source": [
    "class Book:\n",
    "    def __init__(self, title, author, publisher):\n",
    "        self.title = title\n",
    "        self.author = author\n",
    "        self.publisher = publisher\n",
    "        \n",
    "class Ebook(Book):\n",
    "    def __init__(self, title, author, publisher, file_format, file_size):\n",
    "        super().__init__(title, author, publisher)\n",
    "        self.file_format = file_format\n",
    "        self.file_size = file_size\n",
    "\n",
    "# Create an object of the Book class\n",
    "book1 = Book(\"To Kill a Mockingbird\", \"Harper Lee\", \"J. B. Lippincott & Co.\")\n",
    "\n",
    "# Create an object of the Ebook class\n",
    "ebook1 = Ebook(\"The Hunger Games\", \"Suzanne Collins\", \"Scholastic Corporation\", \"PDF\", \"2.5 MB\")\n",
    "\n",
    "# Print out the properties of book1\n",
    "print(\"Book title:\", book1.title)\n",
    "print(\"Book author:\", book1.author)\n",
    "print(\"Book publisher:\", book1.publisher)\n",
    "\n",
    "# Print out the properties of ebook1\n",
    "print(\"Ebook title:\", ebook1.title)\n",
    "print(\"Ebook author:\", ebook1.author)\n",
    "print(\"Ebook publisher:\", ebook1.publisher)\n",
    "print(\"Ebook file format:\", ebook1.file_format)\n",
    "print(\"Ebook file size:\", ebook1.file_size)"
   ]
  },
  {
   "cell_type": "markdown",
   "id": "a930860b-ca78-4440-8fc2-cc3b682df55c",
   "metadata": {},
   "source": [
    "Q10. Create a class called \"Bank\" with properties for \"name\" and \"accounts\". Add methods to create new\n",
    "accounts, deposit and withdraw money from accounts, and to calculate the total balance of all accounts.\n",
    "Create an object of this class and test out the methods."
   ]
  },
  {
   "cell_type": "code",
   "execution_count": 10,
   "id": "f68d1485-6010-4259-8506-94a41e109db4",
   "metadata": {},
   "outputs": [
    {
     "name": "stdout",
     "output_type": "stream",
     "text": [
      "Book title: To Kill a Mockingbird\n",
      "Book author: Harper Lee\n",
      "Book publisher: J. B. Lippincott & Co.\n",
      "Ebook title: The Hunger Games\n",
      "Ebook author: Suzanne Collins\n",
      "Ebook publisher: Scholastic Corporation\n",
      "Ebook file format: PDF\n",
      "Ebook file size: 2.5 MB\n"
     ]
    }
   ],
   "source": [
    "class Book:\n",
    "    def __init__(self, title, author, publisher):\n",
    "        self.title = title\n",
    "        self.author = author\n",
    "        self.publisher = publisher\n",
    "        \n",
    "class Ebook(Book):\n",
    "    def __init__(self, title, author, publisher, file_format, file_size):\n",
    "        super().__init__(title, author, publisher)\n",
    "        self.file_format = file_format\n",
    "        self.file_size = file_size\n",
    "\n",
    "# Create an object of the Book class\n",
    "book1 = Book(\"To Kill a Mockingbird\", \"Harper Lee\", \"J. B. Lippincott & Co.\")\n",
    "\n",
    "# Create an object of the Ebook class\n",
    "ebook1 = Ebook(\"The Hunger Games\", \"Suzanne Collins\", \"Scholastic Corporation\", \"PDF\", \"2.5 MB\")\n",
    "\n",
    "# Print out the properties of book1\n",
    "print(\"Book title:\", book1.title)\n",
    "print(\"Book author:\", book1.author)\n",
    "print(\"Book publisher:\", book1.publisher)\n",
    "\n",
    "# Print out the properties of ebook1\n",
    "print(\"Ebook title:\", ebook1.title)\n",
    "print(\"Ebook author:\", ebook1.author)\n",
    "print(\"Ebook publisher:\", ebook1.publisher)\n",
    "print(\"Ebook file format:\", ebook1.file_format)\n",
    "print(\"Ebook file size:\", ebook1.file_size)"
   ]
  }
 ],
 "metadata": {
  "kernelspec": {
   "display_name": "Python 3 (ipykernel)",
   "language": "python",
   "name": "python3"
  },
  "language_info": {
   "codemirror_mode": {
    "name": "ipython",
    "version": 3
   },
   "file_extension": ".py",
   "mimetype": "text/x-python",
   "name": "python",
   "nbconvert_exporter": "python",
   "pygments_lexer": "ipython3",
   "version": "3.10.8"
  }
 },
 "nbformat": 4,
 "nbformat_minor": 5
}
