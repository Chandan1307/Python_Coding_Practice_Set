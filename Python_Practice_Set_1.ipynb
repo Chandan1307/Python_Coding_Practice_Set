{
 "cells": [
  {
   "cell_type": "markdown",
   "id": "22aea5e0-a725-477d-be2a-46fcda0891f6",
   "metadata": {},
   "source": [
    "Q1. Write a Python program that defines a function called \"add_numbers\" that takes two arguments (i.e.,\n",
    "numbers) and returns their sum. Within the function, add the two numbers together and return the result\n",
    "using the return statement. Call the function with the values 5 and 6, and print out the returned result.\n",
    "This will result in the addition of 5 and 6, with the output of the program being the sum of these two\n",
    "numbers."
   ]
  },
  {
   "cell_type": "code",
   "execution_count": 1,
   "id": "b2142f9c-fa73-41ff-b57c-9999f0910c46",
   "metadata": {},
   "outputs": [
    {
     "name": "stdout",
     "output_type": "stream",
     "text": [
      "11\n"
     ]
    }
   ],
   "source": [
    "def add_numbers(num1, num2):\n",
    "    return num1 + num2\n",
    "\n",
    "result = add_numbers(5, 6)\n",
    "print(result)\n",
    "    "
   ]
  },
  {
   "cell_type": "markdown",
   "id": "dd74ad7e-ff4f-4c22-989b-549d850a3099",
   "metadata": {},
   "source": [
    "Q2. Write a Python program that calculates the square root of a given number using a built-in function.\n",
    "Specifically, the program should take an integer or float input from the user, calculate its square root\n",
    "using the 'sqrt()' function from the 'math' module, and print out the result to the user. As an example,\n",
    "calculate the square root of the number 625 using this program, which should output the value of 25."
   ]
  },
  {
   "cell_type": "code",
   "execution_count": 2,
   "id": "11ddecd5-e8b5-4815-9db9-56defa5b7b6e",
   "metadata": {},
   "outputs": [
    {
     "name": "stdout",
     "output_type": "stream",
     "text": [
      "25.0\n"
     ]
    }
   ],
   "source": [
    "import math\n",
    "number = 625\n",
    "n = math.sqrt(number)\n",
    "print(n)"
   ]
  },
  {
   "cell_type": "markdown",
   "id": "565654f9-628b-4789-bb77-eff425b48e93",
   "metadata": {},
   "source": [
    "Q3. Write a program that prints all prime numbers between 0 to 50."
   ]
  },
  {
   "cell_type": "code",
   "execution_count": 3,
   "id": "44b3a7e2-ec7f-4946-8392-aaf7e6b3d332",
   "metadata": {},
   "outputs": [
    {
     "name": "stdout",
     "output_type": "stream",
     "text": [
      "2\n",
      "3\n",
      "5\n",
      "7\n",
      "11\n",
      "13\n",
      "17\n",
      "19\n",
      "23\n",
      "29\n",
      "31\n",
      "37\n",
      "41\n",
      "43\n",
      "47\n"
     ]
    }
   ],
   "source": [
    "for number in range(2, 51):\n",
    "    prime = True\n",
    "    for i in range(2, number):\n",
    "        if number % i ==0:\n",
    "            prime = False\n",
    "            break\n",
    "    if prime:\n",
    "        print(number)"
   ]
  },
  {
   "cell_type": "markdown",
   "id": "705f9829-76d6-4044-9037-04da0b966d91",
   "metadata": {},
   "source": [
    "Q4. How can we swap the values of three variables (let's say a, b, and c) without using a fourth variable?\n",
    "For example, if we have a=5, b=8, and c=9, how can we obtain a=9, b=5, and c=8? The challenge is to\n",
    "perform this operation without using an additional variable to store any of the values during the\n",
    "swapping process."
   ]
  },
  {
   "cell_type": "code",
   "execution_count": 5,
   "id": "44c4e5db-3e55-4276-872a-1b33aa8d0947",
   "metadata": {},
   "outputs": [
    {
     "name": "stdout",
     "output_type": "stream",
     "text": [
      "a = 9\n",
      "b = 5\n",
      "c = 8\n"
     ]
    }
   ],
   "source": [
    "a = 5\n",
    "b = 8\n",
    "c = 9\n",
    "a, b, c = c, a, b\n",
    "print(\"a =\", a)\n",
    "print(\"b =\", b)\n",
    "print(\"c =\", c)"
   ]
  },
  {
   "cell_type": "markdown",
   "id": "1b17dae2-70f7-45f8-9261-bc85cc313783",
   "metadata": {},
   "source": [
    "Q5. Can you write a program that determines the nature of a given number (in this case, 87) as being\n",
    "positive, negative, or zero? The program should be designed to take the number as input and perform the\n",
    "necessary calculations to determine if the number is positive (i.e., greater than zero), negative (i.e., less\n",
    "than zero), or zero (i.e., equal to zero). The output of the program should indicate which of these three\n",
    "categories the given number falls into."
   ]
  },
  {
   "cell_type": "code",
   "execution_count": 9,
   "id": "2029e23f-38b3-485b-97b7-d1a51b8cb498",
   "metadata": {},
   "outputs": [
    {
     "name": "stdin",
     "output_type": "stream",
     "text": [
      "enter the number 87\n"
     ]
    },
    {
     "name": "stdout",
     "output_type": "stream",
     "text": [
      "Its Positive Number\n"
     ]
    }
   ],
   "source": [
    "# User input any number:\n",
    "# num = int(input(\"enter the number\"))\n",
    "num = 87\n",
    "\n",
    "if num > 0:\n",
    "    print(\"Its Positive Number\")\n",
    "elif num < 0:\n",
    "    print(\"Its Negative number\")\n",
    "else:\n",
    "    print(\"The number is zero\")"
   ]
  },
  {
   "cell_type": "markdown",
   "id": "b9c05c57-48ce-4cdd-919a-533b1cbde32a",
   "metadata": {},
   "source": [
    "Q6. How can you create a program that determines whether a given number (in this case, 98) is even or\n",
    "odd? The program should be designed to take the number as input and perform the necessary\n",
    "calculations to determine whether it is divisible by two. If the number is divisible by two without leaving a\n",
    "remainder, it is an even number, and if there is a remainder, it is an odd number. The output of the\n",
    "program should indicate whether the given number is even or odd."
   ]
  },
  {
   "cell_type": "code",
   "execution_count": 12,
   "id": "74ee8765-c0ba-454c-82be-276816ad6baa",
   "metadata": {},
   "outputs": [
    {
     "name": "stdout",
     "output_type": "stream",
     "text": [
      "The number is even\n"
     ]
    }
   ],
   "source": [
    "# User input any number:\n",
    "# num = int(input(\"enter the number\"))\n",
    "num = 98\n",
    "if num % 2 == 0:\n",
    "    print(\"The number is even\")\n",
    "else:\n",
    "    print(\"The number is odd\")"
   ]
  },
  {
   "cell_type": "markdown",
   "id": "20a2fffe-7139-4124-9d75-c8540bc3ddf2",
   "metadata": {},
   "source": [
    "Q7. Write a program for sum of digits. The digits are 76543 and the output should be 25."
   ]
  },
  {
   "cell_type": "code",
   "execution_count": 18,
   "id": "383c66e0-6a83-4e54-a8fa-8c29ced1d0d8",
   "metadata": {},
   "outputs": [
    {
     "name": "stdout",
     "output_type": "stream",
     "text": [
      "total sum: 25\n"
     ]
    }
   ],
   "source": [
    "num = 76543\n",
    "sum_of_digit = 0\n",
    "\n",
    "while num > 0:\n",
    "    sum_of_digit += num % 10\n",
    "    num //= 10\n",
    "print(\"total sum:\", sum_of_digit)"
   ]
  },
  {
   "cell_type": "markdown",
   "id": "b327e64d-c9cd-4272-aad1-f0baf0773ac8",
   "metadata": {},
   "source": [
    "Q8. Write a program for reversing the given number 5436 and the output should be 6345."
   ]
  },
  {
   "cell_type": "code",
   "execution_count": 26,
   "id": "487815e4-91f7-44e3-9dc4-be2c8b0f2a5c",
   "metadata": {},
   "outputs": [
    {
     "name": "stdout",
     "output_type": "stream",
     "text": [
      "Reverse the number:  6345\n"
     ]
    }
   ],
   "source": [
    "num = 5436\n",
    "rev_num = 0\n",
    "\n",
    "while num > 0:\n",
    "    rev_num = rev_num*10 + num % 10\n",
    "    num//=10\n",
    "print(\"Reverse the number: \", rev_num)"
   ]
  },
  {
   "cell_type": "markdown",
   "id": "d598ff5b-bf6e-4364-9462-774fa3ad1596",
   "metadata": {},
   "source": [
    "Q9. Write a program to check if a given number 371 is an Armstrong number?"
   ]
  },
  {
   "cell_type": "code",
   "execution_count": 1,
   "id": "34e9ab10-a07e-4cbd-87fb-b752153e8808",
   "metadata": {},
   "outputs": [
    {
     "name": "stdout",
     "output_type": "stream",
     "text": [
      "371 it is an Armstrong number\n"
     ]
    }
   ],
   "source": [
    "num = 371\n",
    "order = len(str(num))\n",
    "sum = 0\n",
    "\n",
    "temp = num\n",
    "while temp > 0:\n",
    "    digit = temp % 10\n",
    "    sum += digit ** order\n",
    "    temp //= 10\n",
    "\n",
    "if num == sum:\n",
    "    print(num, \"it is an Armstrong number\")\n",
    "else:\n",
    "    print(num, \"not Armstrong number\")"
   ]
  },
  {
   "cell_type": "markdown",
   "id": "9afa50b8-d0b8-4ca2-b289-a210849b973a",
   "metadata": {},
   "source": [
    "Q10. Write a program the given year is 1996, a leap year."
   ]
  },
  {
   "cell_type": "code",
   "execution_count": 10,
   "id": "00620ff1-1e9a-4d11-a92a-420676e0bdbd",
   "metadata": {},
   "outputs": [
    {
     "name": "stdout",
     "output_type": "stream",
     "text": [
      "1996 is a leap year\n"
     ]
    }
   ],
   "source": [
    "# 1st Method\n",
    "year = 1996\n",
    "\n",
    "if year % 4 == 0:\n",
    "    if year % 100 == 0:\n",
    "        if year % 400 == 0:\n",
    "            print(year, \"is a leap year\")\n",
    "        else:\n",
    "            print(year, \"is not a leap year\")\n",
    "    else:\n",
    "        print(year, \"is a leap year\")\n",
    "else:\n",
    "    print(year, \"is not a leap year\")\n"
   ]
  },
  {
   "cell_type": "code",
   "execution_count": 13,
   "id": "3ade7fb2-ed5e-49b5-a92a-1fb44099362f",
   "metadata": {},
   "outputs": [
    {
     "name": "stdout",
     "output_type": "stream",
     "text": [
      "1996 is a leap year\n"
     ]
    }
   ],
   "source": [
    "# 2nd Method\n",
    "year = 1996\n",
    "\n",
    "if (year % 4 == 0 and year % 100 != 0) or (year % 400 == 0):\n",
    "    print(year, \"is a leap year\")\n",
    "else:\n",
    "    print(year, \"is not a leap year\")"
   ]
  },
  {
   "cell_type": "code",
   "execution_count": null,
   "id": "36391298-dac0-4fc1-9296-a741854c54e9",
   "metadata": {},
   "outputs": [],
   "source": []
  }
 ],
 "metadata": {
  "kernelspec": {
   "display_name": "Python 3 (ipykernel)",
   "language": "python",
   "name": "python3"
  },
  "language_info": {
   "codemirror_mode": {
    "name": "ipython",
    "version": 3
   },
   "file_extension": ".py",
   "mimetype": "text/x-python",
   "name": "python",
   "nbconvert_exporter": "python",
   "pygments_lexer": "ipython3",
   "version": "3.10.8"
  }
 },
 "nbformat": 4,
 "nbformat_minor": 5
}
